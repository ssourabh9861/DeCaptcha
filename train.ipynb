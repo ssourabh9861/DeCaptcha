{
 "cells": [
  {
   "cell_type": "code",
   "execution_count": 2,
   "metadata": {},
   "outputs": [
    {
     "name": "stderr",
     "output_type": "stream",
     "text": [
      "Using TensorFlow backend.\n",
      "/home/utkarsh/anaconda3/lib/python3.7/site-packages/tensorflow/python/framework/dtypes.py:526: FutureWarning: Passing (type, 1) or '1type' as a synonym of type is deprecated; in a future version of numpy, it will be understood as (type, (1,)) / '(1,)type'.\n",
      "  _np_qint8 = np.dtype([(\"qint8\", np.int8, 1)])\n",
      "/home/utkarsh/anaconda3/lib/python3.7/site-packages/tensorflow/python/framework/dtypes.py:527: FutureWarning: Passing (type, 1) or '1type' as a synonym of type is deprecated; in a future version of numpy, it will be understood as (type, (1,)) / '(1,)type'.\n",
      "  _np_quint8 = np.dtype([(\"quint8\", np.uint8, 1)])\n",
      "/home/utkarsh/anaconda3/lib/python3.7/site-packages/tensorflow/python/framework/dtypes.py:528: FutureWarning: Passing (type, 1) or '1type' as a synonym of type is deprecated; in a future version of numpy, it will be understood as (type, (1,)) / '(1,)type'.\n",
      "  _np_qint16 = np.dtype([(\"qint16\", np.int16, 1)])\n",
      "/home/utkarsh/anaconda3/lib/python3.7/site-packages/tensorflow/python/framework/dtypes.py:529: FutureWarning: Passing (type, 1) or '1type' as a synonym of type is deprecated; in a future version of numpy, it will be understood as (type, (1,)) / '(1,)type'.\n",
      "  _np_quint16 = np.dtype([(\"quint16\", np.uint16, 1)])\n",
      "/home/utkarsh/anaconda3/lib/python3.7/site-packages/tensorflow/python/framework/dtypes.py:530: FutureWarning: Passing (type, 1) or '1type' as a synonym of type is deprecated; in a future version of numpy, it will be understood as (type, (1,)) / '(1,)type'.\n",
      "  _np_qint32 = np.dtype([(\"qint32\", np.int32, 1)])\n",
      "/home/utkarsh/anaconda3/lib/python3.7/site-packages/tensorflow/python/framework/dtypes.py:535: FutureWarning: Passing (type, 1) or '1type' as a synonym of type is deprecated; in a future version of numpy, it will be understood as (type, (1,)) / '(1,)type'.\n",
      "  np_resource = np.dtype([(\"resource\", np.ubyte, 1)])\n"
     ]
    }
   ],
   "source": [
    "import numpy as np\n",
    "from sklearn.model_selection import KFold\n",
    "import cv2\n",
    "import os\n",
    "import keras\n",
    "from keras.layers import Input, Add, Dense, Activation, ZeroPadding2D, BatchNormalization, Flatten, Conv2D, AveragePooling2D, MaxPooling2D\n",
    "from keras.models import Model, load_model, model_from_json\n",
    "from keras.utils import to_categorical\n",
    "from keras.callbacks import ModelCheckpoint\n",
    "import h5py\n"
   ]
  },
  {
   "cell_type": "code",
   "execution_count": 5,
   "metadata": {},
   "outputs": [],
   "source": [
    "def load_dataset(folder):\n",
    "    X=[]\n",
    "    Y=[]\n",
    "    num = [i for i in range(26)]\n",
    "    encoding = to_categorical(num)\n",
    "    for subfolder in os.listdir(folder):\n",
    "        label = subfolder[0]\n",
    "        index = ord(label) - ord('A')\n",
    "        for data in os.listdir(os.path.join(folder,subfolder)):\n",
    "            X.append(cv2.imread(os.path.join(folder,subfolder,data),cv2.IMREAD_GRAYSCALE))\n",
    "            Y.append(encoding[index])\n",
    "    X=np.array(X)\n",
    "    Y=np.array(Y)\n",
    "    return X,Y\n",
    "            "
   ]
  },
  {
   "cell_type": "code",
   "execution_count": 6,
   "metadata": {},
   "outputs": [],
   "source": [
    "def DeCaptcha(input_shape, classes=26):\n",
    "    \n",
    "    X_input = Input(input_shape)\n",
    "    X = Conv2D(5,(3,3),strides=(1,1),padding='valid',name='conv1')(X_input)\n",
    "    X = BatchNormalization(axis = -1, name = 'bn_conv1')(X)\n",
    "    X = Activation('relu')(X)\n",
    "    X = MaxPooling2D((2,2),strides=(2,2))(X)\n",
    "    \n",
    "    X = Conv2D(10,(3,3),strides=(1,1),padding='same',name='conv2')(X)\n",
    "    X = BatchNormalization(axis = -1, name = 'bn_conv2')(X)\n",
    "    X = Activation('relu')(X)\n",
    "    X = MaxPooling2D((2,2),strides=(2,2))(X)\n",
    "    \n",
    "    X = Conv2D(15,(3,3),strides=(2,2),padding='same',name='conv3')(X)\n",
    "    X = BatchNormalization(axis = -1, name = 'bn_conv3')(X)\n",
    "    X = Activation('relu')(X)\n",
    "    X = MaxPooling2D((2,2),strides=(2,2))(X)\n",
    "    \n",
    "    X = Flatten()(X)\n",
    "    X = Dense(256, activation='relu', name='dense')(X)\n",
    "    X = Dense(classes, activation='softmax', name='output')(X)\n",
    "    \n",
    "    model=Model(inputs = X_input, outputs=X, name='DeCaptcha')\n",
    "    return model\n",
    "    \n",
    "    "
   ]
  },
  {
   "cell_type": "code",
   "execution_count": 9,
   "metadata": {},
   "outputs": [
    {
     "name": "stdout",
     "output_type": "stream",
     "text": [
      "Epoch 1/4\n",
      "7008/7008 [==============================] - 61s 9ms/step - loss: 0.3110 - accuracy: 0.9285\n",
      "\n",
      "Epoch 00001: saving model to ../cp.ckpt\n",
      "Epoch 2/4\n",
      "7008/7008 [==============================] - 64s 9ms/step - loss: 0.0023 - accuracy: 1.0000\n",
      "\n",
      "Epoch 00002: saving model to ../cp.ckpt\n",
      "Epoch 3/4\n",
      "7008/7008 [==============================] - 64s 9ms/step - loss: 9.6460e-04 - accuracy: 1.0000\n",
      "\n",
      "Epoch 00003: saving model to ../cp.ckpt\n",
      "Epoch 4/4\n",
      "7008/7008 [==============================] - 63s 9ms/step - loss: 5.3436e-04 - accuracy: 1.0000\n",
      "\n",
      "Epoch 00004: saving model to ../cp.ckpt\n"
     ]
    },
    {
     "data": {
      "text/plain": [
       "<keras.callbacks.callbacks.History at 0x7f63746c76a0>"
      ]
     },
     "execution_count": 9,
     "metadata": {},
     "output_type": "execute_result"
    }
   ],
   "source": [
    "X,Y = load_dataset('processed_data')\n",
    "X=X/255\n",
    "(m,n_C,n_W)= X.shape\n",
    "X=X.reshape((m,n_C,n_W,1))\n",
    "model= DeCaptcha((n_C,n_W,1), 26)\n",
    "adam= keras.optimizers.Adam(learning_rate=0.001)\n",
    "model.compile(optimizer=adam, loss='categorical_crossentropy', metrics=['accuracy'])\n",
    "checkpoint_path = \"../cp.ckpt\"\n",
    "checkpoint_dir = os.path.dirname(checkpoint_path)\n",
    "cb =  ModelCheckpoint(filepath = checkpoint_path, save_weights_only=True, verbose=1)\n",
    "model.fit(X, Y, epochs=4, batch_size=32, callbacks = [cb])"
   ]
  },
  {
   "cell_type": "code",
   "execution_count": 10,
   "metadata": {},
   "outputs": [],
   "source": [
    "model_json = model.to_json()\n",
    "with open(\"model_num.json\", \"w\") as json_file:\n",
    "    json_file.write(model_json)\n",
    "model.save_weights(\"model_num.h5\")\n",
    "\n",
    " \n"
   ]
  },
  {
   "cell_type": "code",
   "execution_count": null,
   "metadata": {},
   "outputs": [],
   "source": []
  }
 ],
 "metadata": {
  "kernelspec": {
   "display_name": "Python 3",
   "language": "python",
   "name": "python3"
  },
  "language_info": {
   "codemirror_mode": {
    "name": "ipython",
    "version": 3
   },
   "file_extension": ".py",
   "mimetype": "text/x-python",
   "name": "python",
   "nbconvert_exporter": "python",
   "pygments_lexer": "ipython3",
   "version": "3.7.3"
  }
 },
 "nbformat": 4,
 "nbformat_minor": 2
}
