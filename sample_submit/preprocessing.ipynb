{
 "cells": [
  {
   "cell_type": "code",
   "execution_count": 4,
   "metadata": {},
   "outputs": [],
   "source": [
    "import cv2\n",
    "import numpy as np\n",
    "\n",
    "def remove_color(image):\n",
    "    hsv=cv2.cvtColor(image,cv2.COLOR_BGR2HSV)\n",
    "    ret,grayscale=cv2.threshold(hsv[:,:,2],200,255,cv2.THRESH_BINARY)\n",
    "    return grayscale\n",
    "\n",
    "\n",
    "def horizontal(letter,length):\n",
    "    size=(130-length)//2\n",
    "    front=np.ones((150,size))*255\n",
    "    back=np.ones((150,size+length%2))*255\n",
    "    letter=np.hstack((front,letter,back))\n",
    "\n",
    "    return letter\n",
    "\n",
    "def segment_and_store(image):\n",
    "    arr=np.unique(np.where(image==0)[1])\n",
    "    start,end=arr[0],-1\n",
    "    prev_end=0\n",
    "    l=len(arr)\n",
    "    chars=[]\n",
    "    for i in range(l):\n",
    "        if i==l-1:\n",
    "            end=arr[i]\n",
    "                \n",
    "        elif arr[i+1]-arr[i]!=1:\n",
    "            end=arr[i]\n",
    "                \n",
    "        if end!=-1:\n",
    "            letter=image[:,start:end]\n",
    "            letter=horizontal(letter,end-start)\n",
    "            chars.append(letter)\n",
    "                \n",
    "            if i!=l-1:\n",
    "                start=arr[i+1]\n",
    "            end=-1\n",
    "        \n",
    "    return len(chars),chars"
   ]
  },
  {
   "cell_type": "code",
   "execution_count": null,
   "metadata": {},
   "outputs": [],
   "source": []
  }
 ],
 "metadata": {
  "kernelspec": {
   "display_name": "Python 3",
   "language": "python",
   "name": "python3"
  },
  "language_info": {
   "codemirror_mode": {
    "name": "ipython",
    "version": 3
   },
   "file_extension": ".py",
   "mimetype": "text/x-python",
   "name": "python",
   "nbconvert_exporter": "python",
   "pygments_lexer": "ipython3",
   "version": "3.7.3"
  }
 },
 "nbformat": 4,
 "nbformat_minor": 2
}
