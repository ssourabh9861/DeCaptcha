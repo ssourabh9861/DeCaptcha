{
 "cells": [
  {
   "cell_type": "code",
   "execution_count": null,
   "metadata": {},
   "outputs": [],
   "source": [
    "import predict\n",
    "import time as tm\n",
    "import numpy as np\n",
    "import os\n",
    "\n",
    "# Perform longest common subsequence search on the (truncated) code and gold code\n",
    "def lcs( str1, str2, p, q ):\n",
    "    if p == 0 or q == 0:\n",
    "        return 0\n",
    "    elif str1[p-1] == str2[q-1]:\n",
    "        return 1 + lcs( str1, str2, p - 1, q - 1 )\n",
    "    else:\n",
    "        return max( lcs( str1, str2, p - 1, q ), lcs( str1, str2, p, q - 1 ) )\n",
    "\n",
    "def getLCS( code, goldCode ):\n",
    "    return lcs( code, goldCode, min( len( code ), 4 ), len( goldCode ) )\n",
    "\n",
    "# If there are 100 test points and the prediction code returns 110 predictions\n",
    "# then we only consider the first 100 and discard the last 10 predictions. On\n",
    "# the other hand, if the code returns only 90 predictions, then we assume that\n",
    "# these were predictions on the first 90 test points and evaluate accordingly\n",
    "\n",
    "def getCodeLengthMatch( numChars, goldNumChars ):\n",
    "    minLen = min( len( codes ), len( goldCodes ) )\n",
    "    return np.count_nonzero( numChars[0:minLen] == goldNumChars[0:minLen] )\n",
    "\n",
    "def getCodeMatchScore( codes, goldCodes ):\n",
    "    totScore = 0\n",
    "    for i in range( min( len( codes ), len( goldCodes ) ) ):\n",
    "        totScore += getLCS( codes[i], goldCodes[i] ) / len( goldCodes[i] )\n",
    "    return totScore\n",
    "\n",
    "numTest = 0\n",
    "filepaths = []\n",
    "goldCodes = []\n",
    "# file = open( \"test/code.txt\", \"w\" )\n",
    "for filepath in os.listdir(\"../train\"):\n",
    "    numTest += 1\n",
    "    filepaths.append(\"../train/\"+filepath)\n",
    "    goldCodes.append(filepath.split(\".\")[0])\n",
    "\n",
    "# print(goldCodes)\n",
    "# filepaths = [ \"../test/image%d.png\" % (i+1) for i in range( numTest ) ]\n",
    "# goldCodes = file.read().splitlines()\n",
    "# file.close()\n",
    "goldNumChars = np.array( [ len( goldCodes[i] ) for i in range( len( goldCodes ) ) ] )\n",
    "\n",
    "# Get recommendations from predict.py and time the thing\n",
    "tic = tm.perf_counter()\n",
    "(numChars, codes) = predict.decaptcha( filepaths )\n",
    "toc = tm.perf_counter()\n",
    "\n",
    "print( \"Total time taken is %.6f seconds \" % (toc - tic) )\n",
    "print( \"Fraction of code lengths that match is %.6f\" % (getCodeLengthMatch( numChars, goldNumChars ) / numTest)  )\n",
    "print( \"Code match score is %.6f\" % (getCodeMatchScore( codes, goldCodes ) / numTest) )\n"
   ]
  }
 ],
 "metadata": {
  "kernelspec": {
   "display_name": "Python 3",
   "language": "python",
   "name": "python3"
  },
  "language_info": {
   "codemirror_mode": {
    "name": "ipython",
    "version": 3
   },
   "file_extension": ".py",
   "mimetype": "text/x-python",
   "name": "python",
   "nbconvert_exporter": "python",
   "pygments_lexer": "ipython3",
   "version": "3.7.3"
  }
 },
 "nbformat": 4,
 "nbformat_minor": 2
}
