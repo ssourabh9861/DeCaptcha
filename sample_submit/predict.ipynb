{
 "cells": [
  {
   "cell_type": "code",
   "execution_count": 2,
   "metadata": {},
   "outputs": [
    {
     "name": "stderr",
     "output_type": "stream",
     "text": [
      "Using TensorFlow backend.\n",
      "/home/utkarsh/anaconda3/lib/python3.7/site-packages/tensorflow/python/framework/dtypes.py:526: FutureWarning: Passing (type, 1) or '1type' as a synonym of type is deprecated; in a future version of numpy, it will be understood as (type, (1,)) / '(1,)type'.\n",
      "  _np_qint8 = np.dtype([(\"qint8\", np.int8, 1)])\n",
      "/home/utkarsh/anaconda3/lib/python3.7/site-packages/tensorflow/python/framework/dtypes.py:527: FutureWarning: Passing (type, 1) or '1type' as a synonym of type is deprecated; in a future version of numpy, it will be understood as (type, (1,)) / '(1,)type'.\n",
      "  _np_quint8 = np.dtype([(\"quint8\", np.uint8, 1)])\n",
      "/home/utkarsh/anaconda3/lib/python3.7/site-packages/tensorflow/python/framework/dtypes.py:528: FutureWarning: Passing (type, 1) or '1type' as a synonym of type is deprecated; in a future version of numpy, it will be understood as (type, (1,)) / '(1,)type'.\n",
      "  _np_qint16 = np.dtype([(\"qint16\", np.int16, 1)])\n",
      "/home/utkarsh/anaconda3/lib/python3.7/site-packages/tensorflow/python/framework/dtypes.py:529: FutureWarning: Passing (type, 1) or '1type' as a synonym of type is deprecated; in a future version of numpy, it will be understood as (type, (1,)) / '(1,)type'.\n",
      "  _np_quint16 = np.dtype([(\"quint16\", np.uint16, 1)])\n",
      "/home/utkarsh/anaconda3/lib/python3.7/site-packages/tensorflow/python/framework/dtypes.py:530: FutureWarning: Passing (type, 1) or '1type' as a synonym of type is deprecated; in a future version of numpy, it will be understood as (type, (1,)) / '(1,)type'.\n",
      "  _np_qint32 = np.dtype([(\"qint32\", np.int32, 1)])\n",
      "/home/utkarsh/anaconda3/lib/python3.7/site-packages/tensorflow/python/framework/dtypes.py:535: FutureWarning: Passing (type, 1) or '1type' as a synonym of type is deprecated; in a future version of numpy, it will be understood as (type, (1,)) / '(1,)type'.\n",
      "  np_resource = np.dtype([(\"resource\", np.ubyte, 1)])\n"
     ]
    }
   ],
   "source": [
    "import numpy as np\n",
    "import cv2\n",
    "from keras.models import load_model, model_from_json"
   ]
  },
  {
   "cell_type": "code",
   "execution_count": 9,
   "metadata": {},
   "outputs": [],
   "source": [
    "def remove_color(image):\n",
    "    hsv=cv2.cvtColor(image,cv2.COLOR_BGR2HSV)\n",
    "    ret,grayscale=cv2.threshold(hsv[:,:,2],200,255,cv2.THRESH_BINARY)\n",
    "    return grayscale\n",
    "\n",
    "\n",
    "def horizontal(letter,length):\n",
    "    size=(130-length)//2\n",
    "    front=np.ones((150,size))*255\n",
    "    back=np.ones((150,size+length%2))*255\n",
    "    letter=np.hstack((front,letter,back))\n",
    "\n",
    "    return letter\n",
    "\n",
    "def segment(image):\n",
    "    arr=np.unique(np.where(image==0)[1])\n",
    "    start,end=arr[0],-1\n",
    "    prev_end=0\n",
    "    l=len(arr)\n",
    "    chars=[]\n",
    "    for i in range(l):\n",
    "        if i==l-1:\n",
    "            end=arr[i]\n",
    "                \n",
    "        elif arr[i+1]-arr[i]!=1:\n",
    "            end=arr[i]\n",
    "                \n",
    "        if end!=-1:\n",
    "            letter=image[:,start:end]\n",
    "            letter=horizontal(letter,end-start)\n",
    "            chars.append(letter)\n",
    "                \n",
    "            if i!=l-1:\n",
    "                start=arr[i+1]\n",
    "            end=-1\n",
    "    chars = np.array(chars) \n",
    "    return len(chars),chars\n",
    "def process_data(file):\n",
    "    image = cv2.imread(file)\n",
    "    gray_image = remove_color(image)\n",
    "    return segment(gray_image)"
   ]
  },
  {
   "cell_type": "code",
   "execution_count": 16,
   "metadata": {},
   "outputs": [],
   "source": [
    "def decaptcha( filenames ):\n",
    "    numChars = 3 * np.ones(len(filenames))\n",
    "    codes=[]\n",
    "    with open('../model_num.json', 'r') as json_file:\n",
    "        loaded_model_json = json_file.read()\n",
    "    model = model_from_json(loaded_model_json)\n",
    "    model.load_weights(\"../model_num.h5\")\n",
    "\n",
    "    for i in range(len(filenames)):\n",
    "        numChars[i], chars=process_data(filenames[i])\n",
    "        code=''\n",
    "        for image in chars:\n",
    "            image = image/255\n",
    "            image = image.reshape(1,150,130,1)\n",
    "            prediction_one_hot = model.predict(image)\n",
    "            prediction = chr(ord('A') + np.argmax(prediction_one_hot))\n",
    "            code = code + prediction\n",
    "        codes.append(code)\n",
    "    codes = np.array(codes)\n",
    "    return (numChars, codes)"
   ]
  },
  {
   "cell_type": "code",
   "execution_count": null,
   "metadata": {},
   "outputs": [],
   "source": []
  }
 ],
 "metadata": {
  "kernelspec": {
   "display_name": "Python 3",
   "language": "python",
   "name": "python3"
  },
  "language_info": {
   "codemirror_mode": {
    "name": "ipython",
    "version": 3
   },
   "file_extension": ".py",
   "mimetype": "text/x-python",
   "name": "python",
   "nbconvert_exporter": "python",
   "pygments_lexer": "ipython3",
   "version": "3.7.3"
  }
 },
 "nbformat": 4,
 "nbformat_minor": 2
}
